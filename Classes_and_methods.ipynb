{
  "nbformat": 4,
  "nbformat_minor": 0,
  "metadata": {
    "kernelspec": {
      "display_name": "Python 3",
      "language": "python",
      "name": "python3"
    },
    "language_info": {
      "codemirror_mode": {
        "name": "ipython",
        "version": 3
      },
      "file_extension": ".py",
      "mimetype": "text/x-python",
      "name": "python",
      "nbconvert_exporter": "python",
      "pygments_lexer": "ipython3",
      "version": "3.6.7"
    },
    "colab": {
      "name": "utf-8''C1M5L2_Methods_and_Classes_V3.ipynb",
      "provenance": [],
      "include_colab_link": true
    }
  },
  "cells": [
    {
      "cell_type": "markdown",
      "metadata": {
        "id": "view-in-github",
        "colab_type": "text"
      },
      "source": [
        "<a href=\"https://colab.research.google.com/github/SreeBhargaviM/Python-data-structures-and-Algorithms/blob/master/Classes_and_methods.ipynb\" target=\"_parent\"><img src=\"https://colab.research.google.com/assets/colab-badge.svg\" alt=\"Open In Colab\"/></a>"
      ]
    },
    {
      "cell_type": "markdown",
      "metadata": {
        "id": "y1C-4SHeBkS0",
        "colab_type": "text"
      },
      "source": [
        "The code below defines an *Elevator* class. The elevator has a current floor, it also has a top and a bottom floor that are the minimum and maximum floors it can go to. Fill in the blanks to make the elevator go through the floors requested."
      ]
    },
    {
      "cell_type": "code",
      "metadata": {
        "id": "b0euKRRHBkS4",
        "colab_type": "code",
        "colab": {}
      },
      "source": [
        "class Elevator:\n",
        "    def __init__(self, bottom, top, current):\n",
        "        \"\"\"Initializes the Elevator instance.\"\"\"\n",
        "        self.bottom = bottom\n",
        "        self.top = top\n",
        "        self.current = current\n",
        "        \n",
        "    def up(self):\n",
        "        \"\"\"Makes the elevator go up one floor.\"\"\"\n",
        "        if self.current == self.top:\n",
        "            pass\n",
        "        else:\n",
        "            self.current = self.current + 1\n",
        "                 \n",
        "    def down(self):\n",
        "        \"\"\"Makes the elevator go down one floor.\"\"\"\n",
        "        if self.current == self.bottom:\n",
        "            pass\n",
        "        else:\n",
        "            self.current = self.current - 1\n",
        "        \n",
        "    def go_to(self, floor):\n",
        "        \"\"\"Makes the elevator go to the specific floor.\"\"\"\n",
        "        self.current = floor\n",
        "    def __str__(self):\n",
        "        return \"Current floor: {}\".format(self.current)\n",
        "\n",
        "elevator = Elevator(-1, 10, 0)"
      ],
      "execution_count": null,
      "outputs": []
    },
    {
      "cell_type": "code",
      "metadata": {
        "id": "My5CeJSkBkTH",
        "colab_type": "code",
        "colab": {}
      },
      "source": [
        "elevator = Elevator(-1, 10, 0)"
      ],
      "execution_count": null,
      "outputs": []
    },
    {
      "cell_type": "markdown",
      "metadata": {
        "id": "-FYDMYKtBkTW",
        "colab_type": "text"
      },
      "source": [
        "This class is pretty empty and doesn't do much.  To test whether your *Elevator* class is working correctly, run the code blocks below."
      ]
    },
    {
      "cell_type": "code",
      "metadata": {
        "id": "W-0UwMlUBkTZ",
        "colab_type": "code",
        "colab": {},
        "outputId": "1e6c776e-8027-41de-c3b8-601bd98f9a8f"
      },
      "source": [
        "elevator.up() \n",
        "elevator.current #should output 1"
      ],
      "execution_count": null,
      "outputs": [
        {
          "output_type": "execute_result",
          "data": {
            "text/plain": [
              "1"
            ]
          },
          "metadata": {
            "tags": []
          },
          "execution_count": 35
        }
      ]
    },
    {
      "cell_type": "code",
      "metadata": {
        "id": "01RIZN_PBkTx",
        "colab_type": "code",
        "colab": {},
        "outputId": "deb52843-467e-4ee7-91a7-59df0d663aad"
      },
      "source": [
        "elevator.down() \n",
        "elevator.current #should output 0"
      ],
      "execution_count": null,
      "outputs": [
        {
          "output_type": "execute_result",
          "data": {
            "text/plain": [
              "0"
            ]
          },
          "metadata": {
            "tags": []
          },
          "execution_count": 36
        }
      ]
    },
    {
      "cell_type": "code",
      "metadata": {
        "id": "BcFxKINQBkUe",
        "colab_type": "code",
        "colab": {},
        "outputId": "e9efdc6d-a9b9-4856-b977-3a6088bea894"
      },
      "source": [
        "elevator.go_to(10) \n",
        "elevator.current #should output 10"
      ],
      "execution_count": null,
      "outputs": [
        {
          "output_type": "execute_result",
          "data": {
            "text/plain": [
              "10"
            ]
          },
          "metadata": {
            "tags": []
          },
          "execution_count": 37
        }
      ]
    },
    {
      "cell_type": "markdown",
      "metadata": {
        "id": "Z5IZWnBdBkUp",
        "colab_type": "text"
      },
      "source": [
        "If you get a **<font color =red>NameError</font>** message, be sure to run the *Elevator* class definition code block first. If you get an **<font color =red>AttributeError</font>** message, be sure to initialize *self.current* in your *Elevator* class."
      ]
    },
    {
      "cell_type": "markdown",
      "metadata": {
        "id": "CGSSlRdyBkUs",
        "colab_type": "text"
      },
      "source": [
        "Once you've made the above methods output 1, 0 and 10, you've successfully coded the *Elevator* class and its methods. Great work!\n",
        "<br><br>\n",
        "For the up and down methods, did you take into account the top and bottom floors? Keep in mind that the elevator shouldn't go above the top floor or below the bottom floor. To check that out, try the code below and verify if it's working as expected. If it's not, then go back and modify the methods so that this code behaves correctly."
      ]
    },
    {
      "cell_type": "code",
      "metadata": {
        "id": "yENmMlY8BkU6",
        "colab_type": "code",
        "colab": {},
        "outputId": "7753f103-541b-4774-ca9b-73876350fc25"
      },
      "source": [
        "# Go to the top floor. Try to go up, it should stay. Then go down.\n",
        "elevator.go_to(10)\n",
        "elevator.up()\n",
        "elevator.down()\n",
        "print(elevator.current) # should be 9\n",
        "# Go to the bottom floor. Try to go down, it should stay. Then go up.\n",
        "elevator.go_to(-1)\n",
        "elevator.down()\n",
        "elevator.down()\n",
        "elevator.up()\n",
        "elevator.up()\n",
        "print(elevator.current) # should be 1"
      ],
      "execution_count": null,
      "outputs": [
        {
          "output_type": "stream",
          "text": [
            "9\n",
            "1\n"
          ],
          "name": "stdout"
        }
      ]
    },
    {
      "cell_type": "markdown",
      "metadata": {
        "id": "AVoZToTzBkVI",
        "colab_type": "text"
      },
      "source": [
        "Now add the __str__ method to your *Elevator* class definition above so that when printing the elevator using the **print( )** method, we get the current floor together with a message. For example, in the 5th floor it should say \"Current floor: 5\""
      ]
    },
    {
      "cell_type": "code",
      "metadata": {
        "id": "kI30tEyZBkVK",
        "colab_type": "code",
        "colab": {},
        "outputId": "ec409080-4b6e-4f46-bc31-6d26424bb0d0"
      },
      "source": [
        "elevator.go_to(5)\n",
        "print(elevator)"
      ],
      "execution_count": null,
      "outputs": [
        {
          "output_type": "stream",
          "text": [
            "Current floor: 5\n"
          ],
          "name": "stdout"
        }
      ]
    },
    {
      "cell_type": "markdown",
      "metadata": {
        "id": "g55sy557BkVy",
        "colab_type": "text"
      },
      "source": [
        "Remember, Python uses the default method, that prints the position where the object is stored in the computer’s memory.  If your output is something like: <br>\n",
        "> <__main__.Elevator object at 0x7ff6a9ff3fd0>\n",
        "\n",
        "Then you will need to add the special __str__ method, which returns the string that you want to print.  Try again until you get the desired output, \"Current floor: 5\"."
      ]
    },
    {
      "cell_type": "markdown",
      "metadata": {
        "id": "rt37886OBkV0",
        "colab_type": "text"
      },
      "source": [
        "Once you have successfully produced the desired output, you are all done with this practice notebook. Awesome!"
      ]
    }
  ]
}