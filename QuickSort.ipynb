{
  "nbformat": 4,
  "nbformat_minor": 0,
  "metadata": {
    "colab": {
      "name": "Untitled10.ipynb",
      "provenance": [],
      "authorship_tag": "ABX9TyME9Dmb4FkWjU2dMkeEhB8d",
      "include_colab_link": true
    },
    "kernelspec": {
      "name": "python3",
      "display_name": "Python 3"
    }
  },
  "cells": [
    {
      "cell_type": "markdown",
      "metadata": {
        "id": "view-in-github",
        "colab_type": "text"
      },
      "source": [
        "<a href=\"https://colab.research.google.com/github/SreeBhargaviM/Python-data-structures-and-Algorithms/blob/master/QuickSort.ipynb\" target=\"_parent\"><img src=\"https://colab.research.google.com/assets/colab-badge.svg\" alt=\"Open In Colab\"/></a>"
      ]
    },
    {
      "cell_type": "code",
      "metadata": {
        "id": "X8gXMuLbfzUf",
        "colab_type": "code",
        "colab": {}
      },
      "source": [
        "def quicksort(l):\n",
        "  if len(l) <= 1:\n",
        "    return l\n",
        "  if len(l) == 2:\n",
        "    if l[0]<=l[1]:\n",
        "      return l\n",
        "    else:\n",
        "      return [l[1],l[0]]\n",
        "  pivot = l[-1]\n",
        "  for i in range(len(l)):\n",
        "    if l[i]>pivot:\n",
        "      a = l[i]\n",
        "      l.remove(a)\n",
        "      l = l + [a]\n",
        "  idx = l.index(pivot)\n",
        "  return quicksort(l[:i])+quicksort(l[i:])"
      ],
      "execution_count": 14,
      "outputs": []
    },
    {
      "cell_type": "code",
      "metadata": {
        "id": "1RbZzgMsg1hE",
        "colab_type": "code",
        "colab": {
          "base_uri": "https://localhost:8080/",
          "height": 34
        },
        "outputId": "d3b1ab29-e958-4273-9e5e-43bba494de99"
      },
      "source": [
        "quicksort([7,4,1,0,8,5,2,9,6,3,-1])"
      ],
      "execution_count": 16,
      "outputs": [
        {
          "output_type": "execute_result",
          "data": {
            "text/plain": [
              "[-1, 0, 1, 2, 3, 5, 4, 6, 7, 9, 8]"
            ]
          },
          "metadata": {
            "tags": []
          },
          "execution_count": 16
        }
      ]
    }
  ]
}