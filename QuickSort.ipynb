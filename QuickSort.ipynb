{
  "nbformat": 4,
  "nbformat_minor": 0,
  "metadata": {
    "colab": {
      "name": "Untitled10.ipynb",
      "provenance": [],
      "authorship_tag": "ABX9TyO43O0anEoktluLmQqNqz+E",
      "include_colab_link": true
    },
    "kernelspec": {
      "name": "python3",
      "display_name": "Python 3"
    }
  },
  "cells": [
    {
      "cell_type": "markdown",
      "metadata": {
        "id": "view-in-github",
        "colab_type": "text"
      },
      "source": [
        "<a href=\"https://colab.research.google.com/github/SreeBhargaviM/Python-data-structures-and-Algorithms/blob/master/QuickSort.ipynb\" target=\"_parent\"><img src=\"https://colab.research.google.com/assets/colab-badge.svg\" alt=\"Open In Colab\"/></a>"
      ]
    },
    {
      "cell_type": "code",
      "metadata": {
        "id": "X8gXMuLbfzUf",
        "colab_type": "code",
        "colab": {}
      },
      "source": [
        "def quicksort(l):\n",
        "  if len(l) <= 1:\n",
        "    return l\n",
        "  if len(l) == 2:\n",
        "    if l[0]<=l[1]:\n",
        "      return l\n",
        "    else:\n",
        "      return [l[1],l[0]]\n",
        "  pivot = l[len(l)-1]\n",
        "  l.remove(pivot)\n",
        "  great = []\n",
        "  for i in range(len(l)):\n",
        "    if l[i]>pivot:\n",
        "      great.append(l[i])\n",
        "  if great!=[]:\n",
        "    for i in great:\n",
        "      l.remove(i)\n",
        "  great = [pivot]+great\n",
        "  return quicksort(l)+quicksort(great)"
      ],
      "execution_count": 5,
      "outputs": []
    },
    {
      "cell_type": "code",
      "metadata": {
        "id": "1RbZzgMsg1hE",
        "colab_type": "code",
        "colab": {
          "base_uri": "https://localhost:8080/",
          "height": 34
        },
        "outputId": "1c3d7819-7772-4c73-d72d-f5e03074f062"
      },
      "source": [
        "quicksort([7,4,1,0,8,5,2,9,-6,3,-9,25,13])"
      ],
      "execution_count": 11,
      "outputs": [
        {
          "output_type": "execute_result",
          "data": {
            "text/plain": [
              "[-9, -6, 0, 1, 2, 3, 4, 5, 7, 8, 9, 13, 25]"
            ]
          },
          "metadata": {
            "tags": []
          },
          "execution_count": 11
        }
      ]
    },
    {
      "cell_type": "code",
      "metadata": {
        "id": "gKO8VZl39hQO",
        "colab_type": "code",
        "colab": {
          "base_uri": "https://localhost:8080/",
          "height": 34
        },
        "outputId": "63fda88b-402c-4060-e86f-0d5df1bc2c40"
      },
      "source": [
        "l1 = [7,4,1,0,8,9,6,3,-1]\n",
        "piv = l1[-1]\n",
        "for i,p in enumerate(l1):\n",
        "  if p>piv:\n",
        "    a = p\n",
        "    l1.remove(a)\n",
        "    l1.append(a)\n",
        "  if p<piv:\n",
        "    a = p\n",
        "    l1.remove(a)\n",
        "    l1 = [a] + l1\n",
        "idx1 = l1.index(piv)\n",
        "l1"
      ],
      "execution_count": 28,
      "outputs": [
        {
          "output_type": "execute_result",
          "data": {
            "text/plain": [
              "[4, 0, 9, 3, -1, 1, 6, 8, 7]"
            ]
          },
          "metadata": {
            "tags": []
          },
          "execution_count": 28
        }
      ]
    }
  ]
}