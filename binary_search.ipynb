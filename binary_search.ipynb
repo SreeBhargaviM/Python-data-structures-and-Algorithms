{
  "nbformat": 4,
  "nbformat_minor": 0,
  "metadata": {
    "colab": {
      "name": "Untitled14.ipynb",
      "provenance": [],
      "authorship_tag": "ABX9TyNlhnOTaJ6lCZrVtLzVXx4C",
      "include_colab_link": true
    },
    "kernelspec": {
      "name": "python3",
      "display_name": "Python 3"
    }
  },
  "cells": [
    {
      "cell_type": "markdown",
      "metadata": {
        "id": "view-in-github",
        "colab_type": "text"
      },
      "source": [
        "<a href=\"https://colab.research.google.com/github/SreeBhargaviM/Python-data-structures-and-Algorithms/blob/master/binary_search.ipynb\" target=\"_parent\"><img src=\"https://colab.research.google.com/assets/colab-badge.svg\" alt=\"Open In Colab\"/></a>"
      ]
    },
    {
      "cell_type": "code",
      "metadata": {
        "id": "hN7dHzR2Dyub",
        "colab_type": "code",
        "colab": {}
      },
      "source": [
        "def binary_search(n,l):\n",
        "  import math as mt\n",
        "  l.sort()\n",
        "  s = len(l)\n",
        "  if s == 1:\n",
        "    if n == l[0]:\n",
        "      return 'yes'\n",
        "    else:\n",
        "      return 'no'\n",
        "  mid_ind = mt.floor(s/2) \n",
        "  if n == l[mid_ind]:\n",
        "    return 'yes'\n",
        "  if n < l[mid_ind]:\n",
        "    return binary_search(n,l[0:mid_ind])\n",
        "  if n > l[mt.floor(s/2)-1]:\n",
        "    return binary_search(n,l[mid_ind:s])"
      ],
      "execution_count": 3,
      "outputs": []
    },
    {
      "cell_type": "code",
      "metadata": {
        "id": "azAiiTtUEE7c",
        "colab_type": "code",
        "colab": {
          "base_uri": "https://localhost:8080/",
          "height": 35
        },
        "outputId": "8c3a5044-f57d-49bd-bf1f-40be527095bb"
      },
      "source": [
        "binary_search(0, [48,12,9,33,21,89,4,11,19,55,3,17,47,6,32,10,0])"
      ],
      "execution_count": 4,
      "outputs": [
        {
          "output_type": "execute_result",
          "data": {
            "application/vnd.google.colaboratory.intrinsic+json": {
              "type": "string"
            },
            "text/plain": [
              "'yes'"
            ]
          },
          "metadata": {
            "tags": []
          },
          "execution_count": 4
        }
      ]
    }
  ]
}