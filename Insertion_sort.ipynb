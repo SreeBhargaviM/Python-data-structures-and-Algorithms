{
  "nbformat": 4,
  "nbformat_minor": 0,
  "metadata": {
    "colab": {
      "name": "Untitled10.ipynb",
      "provenance": [],
      "authorship_tag": "ABX9TyNFy0lK6UBelWon8DXAMILM",
      "include_colab_link": true
    },
    "kernelspec": {
      "name": "python3",
      "display_name": "Python 3"
    }
  },
  "cells": [
    {
      "cell_type": "markdown",
      "metadata": {
        "id": "view-in-github",
        "colab_type": "text"
      },
      "source": [
        "<a href=\"https://colab.research.google.com/github/SreeBhargaviM/Python-data-structures-and-Algorithms/blob/master/Insertion_sort.ipynb\" target=\"_parent\"><img src=\"https://colab.research.google.com/assets/colab-badge.svg\" alt=\"Open In Colab\"/></a>"
      ]
    },
    {
      "cell_type": "code",
      "metadata": {
        "id": "X8gXMuLbfzUf",
        "colab_type": "code",
        "colab": {}
      },
      "source": [
        "def insert_sort(l):\n",
        "  for i in range(1,len(l)):\n",
        "    if l[i]<l[0]:\n",
        "      a = l[i]\n",
        "      l.remove(a)\n",
        "      l = [a] + l\n",
        "    else:\n",
        "      for j in range(i):\n",
        "        if l[j]>l[i]:\n",
        "          a = l[i]\n",
        "          l.remove(a)\n",
        "          inter1 = l[0:j]\n",
        "          inter2 = l[j:]\n",
        "          l = inter1 + [a]\n",
        "          l = l + inter2\n",
        "          break\n",
        "  return l"
      ],
      "execution_count": 1,
      "outputs": []
    },
    {
      "cell_type": "code",
      "metadata": {
        "id": "1RbZzgMsg1hE",
        "colab_type": "code",
        "colab": {
          "base_uri": "https://localhost:8080/",
          "height": 34
        },
        "outputId": "2c4248e2-7338-49f8-9bb1-0aa17ff22ccb"
      },
      "source": [
        "insert_sort([7,4,1,0,8,5,2,9,6,3])"
      ],
      "execution_count": 3,
      "outputs": [
        {
          "output_type": "execute_result",
          "data": {
            "text/plain": [
              "[0, 1, 2, 3, 4, 5, 6, 7, 8, 9]"
            ]
          },
          "metadata": {
            "tags": []
          },
          "execution_count": 3
        }
      ]
    }
  ]
}