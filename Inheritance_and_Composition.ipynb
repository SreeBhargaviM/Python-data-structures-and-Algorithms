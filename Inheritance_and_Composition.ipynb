{
  "nbformat": 4,
  "nbformat_minor": 0,
  "metadata": {
    "colab": {
      "name": "Untitled12.ipynb",
      "provenance": [],
      "authorship_tag": "ABX9TyMQA/WNe5v2M306pnnbsCrt",
      "include_colab_link": true
    },
    "kernelspec": {
      "name": "python3",
      "display_name": "Python 3"
    }
  },
  "cells": [
    {
      "cell_type": "markdown",
      "metadata": {
        "id": "view-in-github",
        "colab_type": "text"
      },
      "source": [
        "<a href=\"https://colab.research.google.com/github/SreeBhargaviM/Python-data-structures-and-Algorithms/blob/master/Inheritance_and_Composition.ipynb\" target=\"_parent\"><img src=\"https://colab.research.google.com/assets/colab-badge.svg\" alt=\"Open In Colab\"/></a>"
      ]
    },
    {
      "cell_type": "markdown",
      "metadata": {
        "id": "1XzfcfutSpsN",
        "colab_type": "text"
      },
      "source": [
        "INHERITANCE\n",
        "\n",
        "In object-oriented programming, the concept of inheritance allows you to build relationships between objects, grouping together similar concepts and reducing code duplication. Let's create a custom Fruit class with color and flavor attributes. We can then also define specific attributes or methods that are only relevant for a specific type of fruit. Let's look at another example, this time with animals"
      ]
    },
    {
      "cell_type": "code",
      "metadata": {
        "id": "a9dBCkfnQOvt",
        "colab_type": "code",
        "colab": {}
      },
      "source": [
        "class Animal:\n",
        "  \n",
        "  sound = \"\"\n",
        "  def __init__(self, name):\n",
        "      self.name = name\n",
        "  def speak(self):\n",
        "      print(\"{sound} I'm {name}! {sound}\".format(name=self.name, sound=self.sound))\n",
        " \n",
        "class Piglet(Animal):\n",
        "  sound = \"Oink!\"\n",
        "\n",
        "class Cow(Animal):\n",
        "  sound = \"Moooo\""
      ],
      "execution_count": 1,
      "outputs": []
    },
    {
      "cell_type": "code",
      "metadata": {
        "id": "xVeFbq7mReCo",
        "colab_type": "code",
        "colab": {
          "base_uri": "https://localhost:8080/",
          "height": 34
        },
        "outputId": "b345d149-1c91-4639-f15e-508154063077"
      },
      "source": [
        "hamlet = Piglet(\"Hamlet\")\n",
        "hamlet.speak()"
      ],
      "execution_count": 2,
      "outputs": [
        {
          "output_type": "stream",
          "text": [
            "Oink! I'm Hamlet! Oink!\n"
          ],
          "name": "stdout"
        }
      ]
    },
    {
      "cell_type": "code",
      "metadata": {
        "id": "oZUZ-ZPbR4L7",
        "colab_type": "code",
        "colab": {
          "base_uri": "https://localhost:8080/",
          "height": 34
        },
        "outputId": "80a178ab-ebce-49fd-9924-81acedfce4c4"
      },
      "source": [
        "milky = Cow(\"Milky White\")\n",
        "milky.speak()"
      ],
      "execution_count": 3,
      "outputs": [
        {
          "output_type": "stream",
          "text": [
            "Moooo I'm Milky White! Moooo\n"
          ],
          "name": "stdout"
        }
      ]
    },
    {
      "cell_type": "markdown",
      "metadata": {
        "id": "MWXhXxr6SwDY",
        "colab_type": "text"
      },
      "source": [
        "COMPOSITION\n",
        "\n",
        "You can have a situation where two different classes are related, but there is no inheritance going on. This is referred to as composition -- where one class makes use of code contained in another class. For example, imagine we have a Package class which represents a software package. It contains attributes about the software package, like name, version, and size. We also have a Repository class which represents all the packages available for installation. While there’s no inheritance relationship between the two classes, they are related. The Repository class will contain a dictionary or list of Packages that are contained in the repository. Let's take a look at an example Repository class definition:"
      ]
    },
    {
      "cell_type": "code",
      "metadata": {
        "id": "-dlYXXEmS2yi",
        "colab_type": "code",
        "colab": {}
      },
      "source": [
        "class Repository:\n",
        "\n",
        "  def __init__(self):\n",
        "    self.packages = {}\n",
        "  def add_package(self, package):\n",
        "    self.packages[package.name] = package\n",
        "  def total_size(self):\n",
        "    result = 0\n",
        "    for package in self.packages.values():\n",
        "      result += package.size\n",
        "    return result"
      ],
      "execution_count": 5,
      "outputs": []
    }
  ]
}