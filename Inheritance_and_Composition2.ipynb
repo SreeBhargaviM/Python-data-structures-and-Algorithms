{
  "nbformat": 4,
  "nbformat_minor": 0,
  "metadata": {
    "kernelspec": {
      "display_name": "Python 3",
      "language": "python",
      "name": "python3"
    },
    "language_info": {
      "codemirror_mode": {
        "name": "ipython",
        "version": 3
      },
      "file_extension": ".py",
      "mimetype": "text/x-python",
      "name": "python",
      "nbconvert_exporter": "python",
      "pygments_lexer": "ipython3",
      "version": "3.6.7"
    },
    "colab": {
      "name": "utf-8''C1M5L3_Code_Reuse_V2.ipynb",
      "provenance": [],
      "include_colab_link": true
    }
  },
  "cells": [
    {
      "cell_type": "markdown",
      "metadata": {
        "id": "view-in-github",
        "colab_type": "text"
      },
      "source": [
        "<a href=\"https://colab.research.google.com/github/SreeBhargaviM/Python-data-structures-and-Algorithms/blob/master/Inheritance_and_Composition2.ipynb\" target=\"_parent\"><img src=\"https://colab.research.google.com/assets/colab-badge.svg\" alt=\"Open In Colab\"/></a>"
      ]
    },
    {
      "cell_type": "markdown",
      "metadata": {
        "id": "BrK-2J_NW99q",
        "colab_type": "text"
      },
      "source": [
        "# Code Reuse"
      ]
    },
    {
      "cell_type": "markdown",
      "metadata": {
        "id": "mYLuMHESW99x",
        "colab_type": "text"
      },
      "source": [
        "Let’s put what we learned about code reuse all together. \n",
        "<br><br>\n",
        "First, let’s look back at **inheritance**. Run the following cell that defines a generic `Animal` class. "
      ]
    },
    {
      "cell_type": "code",
      "metadata": {
        "id": "28GSAsaUW9-A",
        "colab_type": "code",
        "colab": {}
      },
      "source": [
        "class Animal:\n",
        "    name = \"\"\n",
        "    category = \"\"\n",
        "    \n",
        "    def __init__(self, name):\n",
        "        self.name = name\n",
        "    \n",
        "    def set_category(self, category):\n",
        "        self.category = category"
      ],
      "execution_count": null,
      "outputs": []
    },
    {
      "cell_type": "markdown",
      "metadata": {
        "id": "uiCO8C6YW9-2",
        "colab_type": "text"
      },
      "source": [
        "What we have is not enough to do much -- yet. That’s where you come in. \n",
        "<br><br>\n",
        "In the next cell, define a `Turtle` class that inherits from the `Animal` class. Then go ahead and set its category. For instance, a turtle is generally considered a reptile. Although modern cladistics call this categorization into question, for purposes of this exercise we will say turtles are reptiles! "
      ]
    },
    {
      "cell_type": "code",
      "metadata": {
        "id": "qT4bDsydW9-7",
        "colab_type": "code",
        "colab": {}
      },
      "source": [
        "class Turtle(Animal):\n",
        "    category = \"reptile\""
      ],
      "execution_count": null,
      "outputs": []
    },
    {
      "cell_type": "markdown",
      "metadata": {
        "id": "G6at3jxsW9_i",
        "colab_type": "text"
      },
      "source": [
        "Run the following cell to check whether you correctly defined your `Turtle` class and set its category to reptile."
      ]
    },
    {
      "cell_type": "code",
      "metadata": {
        "id": "6Jcw95-uW-A7",
        "colab_type": "code",
        "colab": {},
        "outputId": "d8859e8a-ead6-4ca7-c634-17eed7143cc7"
      },
      "source": [
        "print(Turtle.category)"
      ],
      "execution_count": null,
      "outputs": [
        {
          "output_type": "stream",
          "text": [
            "reptile\n"
          ],
          "name": "stdout"
        }
      ]
    },
    {
      "cell_type": "markdown",
      "metadata": {
        "id": "BJvMAH-5W-BT",
        "colab_type": "text"
      },
      "source": [
        "Was the output of the above cell reptile? If not, go back and edit your `Turtle` class making sure that it inherits from the `Animal` class and its category is properly set to reptile. Be sure to re-run that cell once you've finished your edits. Did you get it? If so, great!"
      ]
    },
    {
      "cell_type": "markdown",
      "metadata": {
        "id": "PMwPZC2CW-BX",
        "colab_type": "text"
      },
      "source": [
        "Next, let’s practice **composition** a little bit. This one will require a second type of `Animal` that is in the same category as the first. For example, since you already created a `Turtle` class, go ahead and create a `Snake` class. Don’t forget that it also inherits from the `Animal` class and that its category should be set to reptile."
      ]
    },
    {
      "cell_type": "code",
      "metadata": {
        "id": "N3n4ALeHW-Ba",
        "colab_type": "code",
        "colab": {}
      },
      "source": [
        "class Snake(Animal):\n",
        "    category = \"reptile\""
      ],
      "execution_count": null,
      "outputs": []
    },
    {
      "cell_type": "markdown",
      "metadata": {
        "id": "PrbBlPMiW-B4",
        "colab_type": "text"
      },
      "source": [
        "Now, let’s say we have a large variety of `Animal`s (such as turtles and snakes) in a Zoo. Below we have the `Zoo` class. We’re going to use it to organize our various `Animal`s. Remember, inheritance says a Turtle is an `Animal`, but a `Zoo` is not an `Animal` and an `Animal` is not a `Zoo` -- though they are related to one another. "
      ]
    },
    {
      "cell_type": "markdown",
      "metadata": {
        "id": "qQy4TMEZW-CH",
        "colab_type": "text"
      },
      "source": [
        "Fill in the blanks of the `Zoo` class below so that you can use **zoo.add_animal( )** to add instances of the `Animal` subclasses you created above. Once you’ve added them all, you should be able to use **zoo.total_of_category( )** to tell you exactly how many individual `Animal` types the `Zoo` has for each category! Be sure to run the cell once you've finished your edits."
      ]
    },
    {
      "cell_type": "code",
      "metadata": {
        "id": "FePMYDJQW-CM",
        "colab_type": "code",
        "colab": {}
      },
      "source": [
        "class Zoo:\n",
        "    def __init__(self):\n",
        "        self.current_animals = {}\n",
        "    \n",
        "    def add_animal(self, animal):\n",
        "        self.current_animals[animal.name] = animal.category\n",
        "    \n",
        "    def total_of_category(self, category):\n",
        "        result = 0\n",
        "        for animal in self.current_animals.values():\n",
        "            if animal == category:\n",
        "                result += 1\n",
        "        return result\n",
        "\n",
        "zoo = Zoo()"
      ],
      "execution_count": null,
      "outputs": []
    },
    {
      "cell_type": "markdown",
      "metadata": {
        "id": "Y9ysk5CNW-Cs",
        "colab_type": "text"
      },
      "source": [
        "Run the following cell to check whether you properly filled in the blanks of your `Zoo` class."
      ]
    },
    {
      "cell_type": "code",
      "metadata": {
        "id": "YDvPK1vZW-Cx",
        "colab_type": "code",
        "colab": {},
        "outputId": "44560c36-0e4e-4b63-af3f-68e0d2aee30c"
      },
      "source": [
        "turtle = Turtle(\"Turtle\") #create an instance of the Turtle class\n",
        "snake = Snake(\"Snake\") #create an instance of the Snake class\n",
        "\n",
        "zoo.add_animal(turtle)\n",
        "zoo.add_animal(snake)\n",
        "\n",
        "print(zoo.total_of_category(\"reptile\")) #how many zoo animal types in the reptile category"
      ],
      "execution_count": null,
      "outputs": [
        {
          "output_type": "stream",
          "text": [
            "2\n"
          ],
          "name": "stdout"
        }
      ]
    },
    {
      "cell_type": "markdown",
      "metadata": {
        "id": "tEYw8XunW-DK",
        "colab_type": "text"
      },
      "source": [
        "Was the output of the above cell 2? If not, go back and edit the `Zoo` class making sure to fill in the blanks with the appropriate attributes. Be sure to re-run that cell once you've finished your edits.  \n",
        "<br>\n",
        "Did you get it? If so, perfect! You have successfully defined your `Turtle` and `Snake` subclasses as well as your `Zoo` class.  You are all done with this notebook. Great work!"
      ]
    }
  ]
}