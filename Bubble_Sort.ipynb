{
  "nbformat": 4,
  "nbformat_minor": 0,
  "metadata": {
    "colab": {
      "name": "Untitled16.ipynb",
      "provenance": [],
      "authorship_tag": "ABX9TyN6WYRk6zBg5Y7xTvVtESyt",
      "include_colab_link": true
    },
    "kernelspec": {
      "name": "python3",
      "display_name": "Python 3"
    }
  },
  "cells": [
    {
      "cell_type": "markdown",
      "metadata": {
        "id": "view-in-github",
        "colab_type": "text"
      },
      "source": [
        "<a href=\"https://colab.research.google.com/github/SreeBhargaviM/Python-data-structures-and-Algorithms/blob/master/Bubble_Sort.ipynb\" target=\"_parent\"><img src=\"https://colab.research.google.com/assets/colab-badge.svg\" alt=\"Open In Colab\"/></a>"
      ]
    },
    {
      "cell_type": "code",
      "metadata": {
        "id": "h5CkN9DcoAQU",
        "colab_type": "code",
        "colab": {}
      },
      "source": [
        "def bubble_sort(lis,st,sto):\n",
        "  lis1 = lis[st:sto]\n",
        "  for i in range(len(lis1)):\n",
        "    for j in range(len(lis1)-1):\n",
        "      if lis1[j] > lis1[j+1]:\n",
        "        a = lis1[j] \n",
        "        lis1[j] = lis1[j+1]\n",
        "        lis1[j+1] = a\n",
        "  return lis[0:st]+lis1"
      ],
      "execution_count": 1,
      "outputs": []
    },
    {
      "cell_type": "code",
      "metadata": {
        "id": "r4mCxOxQoCkE",
        "colab_type": "code",
        "colab": {
          "base_uri": "https://localhost:8080/",
          "height": 34
        },
        "outputId": "9fcee8e5-3841-4489-e476-b47a0545eac0"
      },
      "source": [
        "bubble_sort([7,8,9,4,5,6,1,2,3,0],0,10)"
      ],
      "execution_count": 4,
      "outputs": [
        {
          "output_type": "execute_result",
          "data": {
            "text/plain": [
              "[0, 1, 2, 3, 4, 5, 6, 7, 8, 9]"
            ]
          },
          "metadata": {
            "tags": []
          },
          "execution_count": 4
        }
      ]
    }
  ]
}